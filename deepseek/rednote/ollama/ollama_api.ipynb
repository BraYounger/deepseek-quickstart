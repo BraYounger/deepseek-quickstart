{
 "cells": [
  {
   "cell_type": "code",
   "execution_count": 1,
   "id": "f7d6cc63-152d-48e1-8529-c979ac8ce442",
   "metadata": {},
   "outputs": [
    {
     "name": "stdout",
     "output_type": "stream",
     "text": [
      "\n",
      "🍃告别一次性咖啡杯！这款极简环保咖啡杯真的绝绝子！🌱\n",
      "\n",
      "大家好呀，我是你们的环保博主张大大人💫今天来安利一款让我爱不释手的好物——超级实用又好看的#eco_coffee_cup！\n",
      "\n",
      "🌿什么是可持续生活？从随身带上一只可爱的小杯子开始嘛~我的新宠是ins风极简设计\n",
      "它采用100%可降解材料真的好高级呀！用起来一点都不会觉得廉价\n",
      "\n",
      "✨亮点一：颜值爆表。透明的设计加上简洁的线条\n",
      "拿在手里仙气飘飘简直是我的mood咖啡杯~\n",
      "\n",
      "✨亮点二：实用指数超标。杯子自带密封设计带出门也不怕弄脏包包\n",
      "加了保护套也不会轻易被碰翻👌🏻\n",
      "\n",
      "🌟特别提醒：千万别忘记搭配可爱的小玻璃杯盖子一起使用哦\n",
      "不然颜值就大打折扣啦~而且它是完全可以重复使用的！环保先锋就是我！\n",
      "\n",
      "我已经坚持用这只杯子两周零四天了！再也不怕浪费环境啦~\n",
      "姐妹们快来pick属于你们的那只吧！☕️地球因你而美丽\n",
      "\n",
      "#精致生活必备 #可持续时尚 #减碳达人必备\n",
      "#今日分享好物推荐\n"
     ]
    }
   ],
   "source": [
    "import re\n",
    "from openai import OpenAI\n",
    "\n",
    "# 初始化客户端\n",
    "client = OpenAI(\n",
    "    api_key=\"anything\",\n",
    "    base_url=\"http://117.50.173.79:11434/v1\",\n",
    ")\n",
    "\n",
    "# 调用聊天接口\n",
    "response = client.chat.completions.create(\n",
    "    model=\"deepseek-r1:8b\",\n",
    "    messages=[\n",
    "        {\"role\": \"system\", \"content\": \"你是一名时尚博主。\"},\n",
    "        {\"role\": \"user\", \"content\": \"请为产品 环保咖啡杯 写一篇 小红书风格 的推荐文案，要求风格清新活泼，不超过300字\"}\n",
    "    ],\n",
    "    stream=False\n",
    ")\n",
    "\n",
    "# 打印响应\n",
    "# for chunk in response:\n",
    "#     print(chunk.choices[0].delta.content, end=\"\", flush=True)\n",
    "clean_response = re.sub(r'<think>.*?</think>', '', response.choices[0].message.content, flags=re.DOTALL)\n",
    "print(clean_response)"
   ]
  },
  {
   "cell_type": "code",
   "execution_count": null,
   "id": "ae9c1eaa-7fe7-460d-bc6b-837f036f31c8",
   "metadata": {},
   "outputs": [],
   "source": []
  }
 ],
 "metadata": {
  "kernelspec": {
   "display_name": "Python 3 (ipykernel)",
   "language": "python",
   "name": "python3"
  },
  "language_info": {
   "codemirror_mode": {
    "name": "ipython",
    "version": 3
   },
   "file_extension": ".py",
   "mimetype": "text/x-python",
   "name": "python",
   "nbconvert_exporter": "python",
   "pygments_lexer": "ipython3",
   "version": "3.13.4"
  }
 },
 "nbformat": 4,
 "nbformat_minor": 5
}
